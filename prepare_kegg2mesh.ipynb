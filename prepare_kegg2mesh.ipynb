{
 "cells": [
  {
   "cell_type": "markdown",
   "metadata": {},
   "source": [
    "# KEGG Drug ID to MeSH Unique ID"
   ]
  },
  {
   "cell_type": "code",
   "execution_count": null,
   "metadata": {},
   "outputs": [],
   "source": [
    "import difflib\n",
    "import json\n",
    "from pathlib import Path\n",
    "import re\n",
    "import urllib.request\n",
    "from urllib.error import HTTPError\n",
    "\n",
    "import pandas as pd\n",
    "from tqdm import tqdm"
   ]
  },
  {
   "cell_type": "markdown",
   "metadata": {},
   "source": [
    "## 1. Load KEGG Drug List with Names"
   ]
  },
  {
   "cell_type": "markdown",
   "metadata": {},
   "source": [
    "### 1.1. Load Data"
   ]
  },
  {
   "cell_type": "code",
   "execution_count": null,
   "metadata": {},
   "outputs": [],
   "source": [
    "kegg_drugs = {}\n",
    "with open(\"data/relation/human_KEGG_drug_names.tsv\", \"r\") as f:\n",
    "    f.readline()  # header\n",
    "    for line in f.readlines():\n",
    "        kegg, name, gene, geneid = line.strip().split(\"\\t\")\n",
    "        kegg = kegg.strip('\"')\n",
    "        name = name.strip('\"').strip(\";\")\n",
    "        # strip text in brackets\n",
    "        name = re.sub(r\"\\s\\([\\s\\w/]+\\)\", \"\", name)\n",
    "        kegg_drugs[kegg] = name"
   ]
  },
  {
   "cell_type": "markdown",
   "metadata": {},
   "source": [
    "### 1.2. Create dataframe"
   ]
  },
  {
   "cell_type": "code",
   "execution_count": null,
   "metadata": {},
   "outputs": [],
   "source": [
    "df = {}\n",
    "for kegg, name in kegg_drugs.items():\n",
    "    df[kegg] = {\"name\": name}"
   ]
  },
  {
   "cell_type": "markdown",
   "metadata": {},
   "source": [
    "## 2. KEGG to PubChem SID or Chebi ID"
   ]
  },
  {
   "cell_type": "markdown",
   "metadata": {},
   "source": [
    "### 2.1. Prepare KEGG to Chebi ID"
   ]
  },
  {
   "cell_type": "markdown",
   "metadata": {},
   "source": [
    "#### 2.1.1. Download & Save"
   ]
  },
  {
   "cell_type": "code",
   "execution_count": null,
   "metadata": {},
   "outputs": [],
   "source": [
    "url = \"https://rest.kegg.jp/conv/chebi/drug\"\n",
    "kegg2chebi = {}\n",
    "with urllib.request.urlopen(url) as response:\n",
    "    for line in response.readlines():\n",
    "        line = line.decode()\n",
    "        kegg, chebi = line.strip().split(\"\\t\")\n",
    "        if kegg in kegg2chebi:  # one KEGG Drug ID can have multiple Chebi IDs\n",
    "            kegg2chebi[kegg].append(chebi)\n",
    "        else:\n",
    "            kegg2chebi[kegg] = [chebi]"
   ]
  },
  {
   "cell_type": "code",
   "execution_count": null,
   "metadata": {},
   "outputs": [],
   "source": [
    "Path(\"output/kegg2mesh\").mkdir(parents=True, exist_ok=True)"
   ]
  },
  {
   "cell_type": "code",
   "execution_count": null,
   "metadata": {},
   "outputs": [],
   "source": [
    "with open(\"output/kegg2mesh/kegg2chebi.tsv\", \"w\") as f:\n",
    "    for kegg, chebi in kegg2chebi.items():\n",
    "        f.write(f\"{kegg}\\t{','.join(chebi)}\\n\")"
   ]
  },
  {
   "cell_type": "markdown",
   "metadata": {},
   "source": [
    "#### 2.1.2. Load"
   ]
  },
  {
   "cell_type": "code",
   "execution_count": null,
   "metadata": {},
   "outputs": [],
   "source": [
    "kegg2chebi = {}\n",
    "with open(\"output/kegg2mesh/kegg2chebi.tsv\", \"r\") as f:\n",
    "    for line in f.readlines():\n",
    "        kegg, chebi = line.strip().split(\"\\t\")\n",
    "        chebi = str(chebi).split(\",\")\n",
    "        kegg2chebi[kegg] = chebi"
   ]
  },
  {
   "cell_type": "markdown",
   "metadata": {},
   "source": [
    "### 2.2. Prepare KEGG to PubChem SID"
   ]
  },
  {
   "cell_type": "markdown",
   "metadata": {},
   "source": [
    "#### 2.2.1. Download & Save"
   ]
  },
  {
   "cell_type": "code",
   "execution_count": null,
   "metadata": {},
   "outputs": [],
   "source": [
    "url = \"https://rest.kegg.jp/conv/pubchem/drug\"\n",
    "kegg2pubchem = {}\n",
    "with urllib.request.urlopen(url) as response:\n",
    "    for line in response.readlines():\n",
    "        line = line.decode()\n",
    "        kegg, pubchem = line.strip().split(\"\\t\")\n",
    "        kegg2pubchem[kegg] = pubchem"
   ]
  },
  {
   "cell_type": "code",
   "execution_count": null,
   "metadata": {},
   "outputs": [],
   "source": [
    "with open(\"output/kegg2mesh/kegg2pubchem.tsv\", \"w\") as f:\n",
    "    for kegg, pubchem in kegg2pubchem.items():\n",
    "        f.write(f\"{kegg}\\t{pubchem}\\n\")"
   ]
  },
  {
   "cell_type": "markdown",
   "metadata": {},
   "source": [
    "#### 2.2.2. Load"
   ]
  },
  {
   "cell_type": "code",
   "execution_count": null,
   "metadata": {},
   "outputs": [],
   "source": [
    "kegg2pubchem = {}\n",
    "with open(\"output/kegg2mesh/kegg2pubchem.tsv\", \"r\") as f:\n",
    "    for line in f.readlines():\n",
    "        kegg, pubchem = line.strip().split(\"\\t\")\n",
    "        kegg2pubchem[kegg] = pubchem"
   ]
  },
  {
   "cell_type": "markdown",
   "metadata": {},
   "source": [
    "### 2.3. Convert KEGG IDs to PubChem SIDs or Chebi ID"
   ]
  },
  {
   "cell_type": "code",
   "execution_count": null,
   "metadata": {},
   "outputs": [],
   "source": [
    "n_pubchem = 0\n",
    "n_chebi = 0\n",
    "n_na = 0\n",
    "for kegg in kegg_drugs.keys():\n",
    "    if kegg in kegg2pubchem:\n",
    "        pubchem = kegg2pubchem[kegg]\n",
    "    else:\n",
    "        pubchem = \"N/A\"\n",
    "\n",
    "    if kegg in kegg2chebi:\n",
    "        chebi = kegg2chebi[kegg]\n",
    "        if len(chebi) == 1:\n",
    "            chebi = chebi[0]\n",
    "        else:\n",
    "            chebi = \",\".join(chebi)\n",
    "    else:\n",
    "        chebi = \"N/A\"\n",
    "\n",
    "    # count\n",
    "    if pubchem != \"N/A\":\n",
    "        n_pubchem += 1\n",
    "    elif chebi != \"N/A\":  # will use chebi as fallback\n",
    "        n_chebi += 1\n",
    "    else:\n",
    "        n_na += 1\n",
    "\n",
    "    # update dataframe\n",
    "    df[kegg][\"chebi\"] = chebi\n",
    "    df[kegg][\"pubchem_sid\"] = pubchem\n",
    "\n",
    "print(f\"PubChems: {n_pubchem}, Chebis: {n_chebi}, N/As: {n_na}\")"
   ]
  },
  {
   "cell_type": "markdown",
   "metadata": {},
   "source": [
    "## 3. PubChem SID or Chebi ID to PubChem CID"
   ]
  },
  {
   "cell_type": "markdown",
   "metadata": {},
   "source": [
    "### 3.1. Request CID for SIDs from KEGG"
   ]
  },
  {
   "cell_type": "code",
   "execution_count": null,
   "metadata": {},
   "outputs": [],
   "source": [
    "# PubChem API base url\n",
    "pug = \"https://pubchem.ncbi.nlm.nih.gov/rest/pug\""
   ]
  },
  {
   "cell_type": "markdown",
   "metadata": {},
   "source": [
    "#### 3.1.1 Download & Save"
   ]
  },
  {
   "cell_type": "code",
   "execution_count": null,
   "metadata": {},
   "outputs": [],
   "source": [
    "url = pug + \"/substance/sourceall/KEGG/cids/json\"\n",
    "\n",
    "kegg_sid2cid = {}\n",
    "with urllib.request.urlopen(url) as response:\n",
    "    pubchem_chebi_kegg_cids = json.load(response)\n",
    "for item in pubchem_chebi_kegg_cids[\"InformationList\"][\"Information\"]:\n",
    "    if \"CID\" in item:\n",
    "        assert len(item[\"CID\"]) == 1\n",
    "        kegg_sid2cid[item[\"SID\"]] = item[\"CID\"][0]"
   ]
  },
  {
   "cell_type": "code",
   "execution_count": null,
   "metadata": {},
   "outputs": [],
   "source": [
    "with open(\"output/kegg2mesh/kegg_sid2cid.tsv\", \"w\") as f:\n",
    "    f.writelines([f\"{str(k)}\\t{str(v)}\\n\" for k, v in kegg_sid2cid.items()])"
   ]
  },
  {
   "cell_type": "markdown",
   "metadata": {},
   "source": [
    "#### 3.1.2. Load"
   ]
  },
  {
   "cell_type": "code",
   "execution_count": null,
   "metadata": {},
   "outputs": [],
   "source": [
    "kegg_sid2cid = {}\n",
    "with open(\"output/kegg2mesh/kegg_sid2cid.tsv\", \"r\") as f:\n",
    "    for line in f.readlines():\n",
    "        kegg_sid, cid = line.strip().split(\"\\t\")\n",
    "        kegg_sid2cid[int(kegg_sid)] = int(cid)"
   ]
  },
  {
   "cell_type": "markdown",
   "metadata": {},
   "source": [
    "### 3.2. Convert KEGG SID or Chebi ID to PubChem CIDs"
   ]
  },
  {
   "cell_type": "code",
   "execution_count": null,
   "metadata": {},
   "outputs": [],
   "source": [
    "n_cid = 0\n",
    "for kegg, value in df.items():\n",
    "    pubchem_sid = value[\"pubchem_sid\"]\n",
    "    chebi_id = value[\"chebi\"]\n",
    "    cid = \"N/A\"\n",
    "\n",
    "    if pubchem_sid != \"N/A\":  # from kegg sid\n",
    "        pubchem_sid = int(pubchem_sid[len(\"pubchem:\"):])\n",
    "        if pubchem_sid in kegg_sid2cid:\n",
    "            cid = kegg_sid2cid[pubchem_sid]\n",
    "            n_cid += 1\n",
    "\n",
    "    elif chebi_id != \"N/A\":  # from chebi id; use pubchem api\n",
    "        url = pug + f\"/compound/xref/RegistryID/{chebi_id}/cids/json\"\n",
    "        try:\n",
    "            with urllib.request.urlopen(url) as response:\n",
    "                pubchem_chebi_cids = json.load(response)\n",
    "\n",
    "            id_list = pubchem_chebi_cids[\"IdentifierList\"]\n",
    "            if \"CID\" in id_list:\n",
    "                assert len(id_list[\"CID\"]) == 1\n",
    "                cid = id_list[\"CID\"][0]\n",
    "                n_cid += 1\n",
    "\n",
    "        except HTTPError:  # excepting one key not found in pubchem\n",
    "            pass\n",
    "\n",
    "    value[\"pubchem_cid\"] = cid\n",
    "\n",
    "print(f\"Converted {n_cid} out of {len(df)}\")"
   ]
  },
  {
   "cell_type": "markdown",
   "metadata": {},
   "source": [
    "## 4. PubChem CIDs to MeSH Unique IDs"
   ]
  },
  {
   "cell_type": "markdown",
   "metadata": {},
   "source": [
    "### 4.1. Convert CIDs to MeSH Heading and Terms"
   ]
  },
  {
   "cell_type": "markdown",
   "metadata": {},
   "source": [
    "#### 4.1.1. Download & Save"
   ]
  },
  {
   "cell_type": "code",
   "execution_count": null,
   "metadata": {},
   "outputs": [],
   "source": [
    "cid2kegg = {}\n",
    "for kegg, v in df.items():\n",
    "    cid = str(v[\"pubchem_cid\"])\n",
    "    if cid != \"N/A\":\n",
    "        cid2kegg[cid] = kegg"
   ]
  },
  {
   "cell_type": "code",
   "execution_count": null,
   "metadata": {},
   "outputs": [],
   "source": [
    "n_batch = 200\n",
    "\n",
    "kegg2mesh = {}\n",
    "cid_list = list(cid2kegg.keys())\n",
    "for i in tqdm(range(0, len(cid_list), n_batch)):\n",
    "    cid_batch = cid_list[i:i+n_batch]\n",
    "    esummary = f\"https://eutils.ncbi.nlm.nih.gov/entrez/eutils/esummary.fcgi?db=pccompound&id={','.join(cid_batch)}&retmode=json\"\n",
    "    with urllib.request.urlopen(esummary) as response:\n",
    "        results = json.load(response)\n",
    "    # parse results\n",
    "    result = results[\"result\"]\n",
    "    uids = result[\"uids\"]\n",
    "    for uid in uids:\n",
    "        cid = str(result[uid][\"cid\"])\n",
    "        mesh_headings = result[uid][\"meshheadinglist\"]\n",
    "        mesh_terms = result[uid][\"meshtermlist\"]\n",
    "        kegg2mesh[cid2kegg[cid]] = {\n",
    "            \"mesh_headings\": mesh_headings,\n",
    "            \"mesh_terms\": mesh_terms\n",
    "        }"
   ]
  },
  {
   "cell_type": "code",
   "execution_count": null,
   "metadata": {},
   "outputs": [],
   "source": [
    "# save\n",
    "with open(\"output/kegg2mesh/kegg2mesh.tsv\", \"w\") as f:\n",
    "    for kegg, value in kegg2mesh.items():\n",
    "        headings = ','.join(['\"'+heading+'\"' for heading in value['mesh_headings']])\n",
    "        terms = ','.join(['\"'+term+'\"' for term in value['mesh_terms']])\n",
    "        if headings and terms:\n",
    "            f.write(f\"{kegg}\\t{headings}\\t{terms}\\n\")"
   ]
  },
  {
   "cell_type": "markdown",
   "metadata": {},
   "source": [
    "#### 4.1.2. Load"
   ]
  },
  {
   "cell_type": "code",
   "execution_count": null,
   "metadata": {},
   "outputs": [],
   "source": [
    "kegg2mesh = {}\n",
    "with open(\"output/kegg2mesh/kegg2mesh.tsv\", \"r\") as f:\n",
    "    for line in f.readlines():\n",
    "        kegg, headings, terms = line.strip().split(\"\\t\")\n",
    "        headings = eval(\"[\" + headings + \"]\")\n",
    "        terms = eval(\"[\" + terms + \"]\")\n",
    "        kegg2mesh[kegg] = {\n",
    "            \"mesh_headings\": headings,\n",
    "            \"mesh_terms\": terms,\n",
    "        }"
   ]
  },
  {
   "cell_type": "markdown",
   "metadata": {},
   "source": [
    "#### 4.1.3. Convert CIDs to MeSH headings & terms"
   ]
  },
  {
   "cell_type": "code",
   "execution_count": null,
   "metadata": {},
   "outputs": [],
   "source": [
    "for kegg, value in df.items():\n",
    "    mesh_headings = []\n",
    "    mesh_terms = []\n",
    "    if kegg in kegg2mesh:\n",
    "        mesh_headings = kegg2mesh[kegg][\"mesh_headings\"]\n",
    "        mesh_terms = kegg2mesh[kegg][\"mesh_terms\"]\n",
    "    value.update({\n",
    "        \"mesh_headings\": mesh_headings,\n",
    "        \"mesh_terms\": mesh_terms\n",
    "    })"
   ]
  },
  {
   "cell_type": "markdown",
   "metadata": {},
   "source": [
    "###  4.2. Fetch Labels for MeSH Unique IDs"
   ]
  },
  {
   "cell_type": "markdown",
   "metadata": {},
   "source": [
    "#### 4.2.1. Load BioConceptVec Vocab"
   ]
  },
  {
   "cell_type": "code",
   "execution_count": null,
   "metadata": {},
   "outputs": [],
   "source": [
    "with open(\"data/embeddings/vocab_chem.csv\", \"r\") as f:\n",
    "    f.readline()\n",
    "    chems = [line[len(\"Chemical_MESH_\"):].strip() for line in f.readlines()]"
   ]
  },
  {
   "cell_type": "markdown",
   "metadata": {},
   "source": [
    "#### 4.2.2. Fetch labels for MeSH unique ids from MeSH RDF API"
   ]
  },
  {
   "cell_type": "code",
   "execution_count": null,
   "metadata": {},
   "outputs": [],
   "source": [
    "sparql = \"https://id.nlm.nih.gov/mesh/sparql?query=\"\n",
    "headers = {\"accept\": \"application/sparql-results+json\"}\n",
    "n_batch = 400\n",
    "\n",
    "out_dict = {}\n",
    "for i in tqdm(range(0, len(chems), n_batch)):\n",
    "    query = f\"\"\"\n",
    "    PREFIX rdfs: <http://www.w3.org/2000/01/rdf-schema#>\n",
    "    PREFIX mesh: <http://id.nlm.nih.gov/mesh/>\n",
    "\n",
    "    SELECT *\n",
    "    FROM <http://id.nlm.nih.gov/mesh>\n",
    "    WHERE {{\n",
    "        VALUES ?meshId {{ {' '.join(['mesh:'+ chem for chem in chems[i:i+n_batch]])} }}\n",
    "        ?meshId rdfs:label ?meshLabel .\n",
    "    }}\n",
    "    \"\"\"\n",
    "    url = sparql + urllib.parse.quote(query)\n",
    "    request = urllib.request.Request(url, headers=headers)\n",
    "\n",
    "    with urllib.request.urlopen(request) as response:\n",
    "        label = json.load(response)\n",
    "\n",
    "    for result in label[\"results\"][\"bindings\"]:\n",
    "        chem_id = result[\"meshId\"][\"value\"][len(\"http://id.nlm.nih.gov/mesh/\"):]\n",
    "        value = result[\"meshLabel\"][\"value\"]\n",
    "        out_dict[chem_id] = value"
   ]
  },
  {
   "cell_type": "markdown",
   "metadata": {},
   "source": [
    "#### 4.2.3. Save"
   ]
  },
  {
   "cell_type": "code",
   "execution_count": null,
   "metadata": {},
   "outputs": [],
   "source": [
    "with open(\"output/kegg2mesh/mesh_labels.tsv\", \"w\") as f:\n",
    "    for key, value in out_dict.items():\n",
    "        value = value.replace(\"\\t\", \" \")\n",
    "        f.write(f\"Chemical_MESH_{key}\\t{value}\\n\")"
   ]
  },
  {
   "cell_type": "markdown",
   "metadata": {},
   "source": [
    "#### 4.2.4. Load"
   ]
  },
  {
   "cell_type": "code",
   "execution_count": null,
   "metadata": {},
   "outputs": [],
   "source": [
    "# load mesh concept values\n",
    "mesh_label2id = {}\n",
    "concepts = []\n",
    "with open(\"output/kegg2mesh/mesh_labels.tsv\", \"r\") as f:\n",
    "    for line in f.readlines():\n",
    "        mesh_id, concept = line.strip().split(\"\\t\")\n",
    "        mesh_id = mesh_id[len(\"Chemical_MESH_\"):]\n",
    "        mesh_label2id[concept] = mesh_id\n",
    "        concepts.append(concept)"
   ]
  },
  {
   "cell_type": "markdown",
   "metadata": {},
   "source": [
    "### 4.3. Convert"
   ]
  },
  {
   "cell_type": "markdown",
   "metadata": {},
   "source": [
    "#### 4.3.1. Convert"
   ]
  },
  {
   "cell_type": "code",
   "execution_count": null,
   "metadata": {},
   "outputs": [],
   "source": [
    "cutoff = 0.85  # may need some tweaking\n",
    "\n",
    "for kegg, value in tqdm(df.items()):\n",
    "    headings = value[\"mesh_headings\"]\n",
    "    # terms = value[\"mesh_terms\"]\n",
    "    name = value[\"name\"]\n",
    "    mesh_id = None\n",
    "    score = 0\n",
    "\n",
    "    conv_method = \"exact_\"\n",
    "    for heading in headings:\n",
    "        if heading in mesh_label2id:\n",
    "            mesh_id = mesh_label2id[heading]\n",
    "            label = heading\n",
    "            conv_method += \"heading\"\n",
    "            break\n",
    "    else:\n",
    "        if name in mesh_label2id:\n",
    "            mesh_id = mesh_label2id[name]\n",
    "            label = name\n",
    "            conv_method += \"name\"\n",
    "\n",
    "    if not mesh_id:  # no exact match\n",
    "        conv_method = \"fuzzy_\"\n",
    "        for heading in headings:\n",
    "            if match := difflib.get_close_matches(heading, concepts, n=1, cutoff=cutoff):\n",
    "                label = match[0]\n",
    "                mesh_id = mesh_label2id[label]\n",
    "                conv_method += \"heading\"\n",
    "                score = difflib.SequenceMatcher(None, heading, label).ratio()\n",
    "                break\n",
    "        else:\n",
    "            if match := difflib.get_close_matches(name, concepts, n=1, cutoff=cutoff):\n",
    "                label = match[0]\n",
    "                mesh_id = mesh_label2id[label]\n",
    "                conv_method += \"name\"\n",
    "                score = difflib.SequenceMatcher(None, name, label).ratio()\n",
    "            else:  # failed\n",
    "                label = \"N/A\"\n",
    "                mesh_id = \"N/A\"\n",
    "                conv_method = \"failed\"\n",
    "\n",
    "    value.update({\n",
    "        \"mesh_id\": mesh_id,\n",
    "        \"conv_method\": conv_method,\n",
    "        \"mesh_label\": label,\n",
    "        \"score\": score,\n",
    "    })"
   ]
  },
  {
   "cell_type": "markdown",
   "metadata": {},
   "source": [
    "#### 4.3.2. Save as dataframe"
   ]
  },
  {
   "cell_type": "code",
   "execution_count": null,
   "metadata": {},
   "outputs": [],
   "source": [
    "dataframe = pd.DataFrame(list(df.values()))\n",
    "dataframe.insert(0, \"kegg_id\", df.keys())"
   ]
  },
  {
   "cell_type": "code",
   "execution_count": null,
   "metadata": {},
   "outputs": [],
   "source": [
    "dataframe.to_csv(\"output/kegg2mesh/kegg2mesh_df.csv\", index=None)"
   ]
  }
 ],
 "metadata": {
  "kernelspec": {
   "display_name": "Python 3 (ipykernel)",
   "language": "python",
   "name": "python3"
  },
  "language_info": {
   "codemirror_mode": {
    "name": "ipython",
    "version": 3
   },
   "file_extension": ".py",
   "mimetype": "text/x-python",
   "name": "python",
   "nbconvert_exporter": "python",
   "pygments_lexer": "ipython3",
   "version": "3.8.12"
  }
 },
 "nbformat": 4,
 "nbformat_minor": 4
}
